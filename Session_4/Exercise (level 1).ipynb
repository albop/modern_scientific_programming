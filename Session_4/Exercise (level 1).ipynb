{
 "cells": [
  {
   "cell_type": "markdown",
   "metadata": {},
   "source": [
    "# Exercise (level 1)\n",
    "\n",
    "It is advised to read the introduction to numericpython and keep a numpy [cheatsheet](https://s3.amazonaws.com/assets.datacamp.com/blog_assets/Numpy_Python_Cheat_Sheet.pdf) nearby."
   ]
  },
  {
   "cell_type": "markdown",
   "metadata": {},
   "source": [
    "## Exercise 1:\n",
    "\n",
    "Selection from [w3resources](https://www.w3resource.com/python-exercises/numpy/python-numpy-random.php)\n",
    "and [rougier/numpy100](https://github.com/rougier/numpy-100)"
   ]
  },
  {
   "cell_type": "markdown",
   "metadata": {},
   "source": [
    "- Write a NumPy program to generate five random numbers from the normal distribution."
   ]
  },
  {
   "cell_type": "markdown",
   "metadata": {},
   "source": [
    "- Write a NumPy program to generate six random integers between 10 and 30."
   ]
  },
  {
   "cell_type": "markdown",
   "metadata": {},
   "source": [
    "- Create a 3x3 matrix with values ranging from 0 to 8"
   ]
  },
  {
   "cell_type": "markdown",
   "metadata": {},
   "source": [
    "- Create 2d array $M$ such of size 3*3 such that $M_{ij} = i\\times j$"
   ]
  },
  {
   "cell_type": "markdown",
   "metadata": {},
   "source": [
    "- Create 3 vectors of length 5 and create a matrix where each column is one of the vector."
   ]
  },
  {
   "cell_type": "markdown",
   "metadata": {},
   "source": [
    "- Create 3 vectors of length 5 and create a matrix where each row is one of the vector."
   ]
  },
  {
   "cell_type": "markdown",
   "metadata": {},
   "source": [
    "- Find indices of non-zero elements from `np.array([1,2,0,0,4,0])`. Replace them with -1.0"
   ]
  },
  {
   "cell_type": "markdown",
   "metadata": {},
   "source": [
    "- Write a NumPy program to normalize a 3x3 random matrix. (Define norm $|x|=\\sqrt{\\sum x_i^2}$ and compute $M/|M|$)"
   ]
  },
  {
   "cell_type": "markdown",
   "metadata": {},
   "source": [
    "- Create 2d array $M$ such of size 3*3 such that $M_{ij} = i\\times j$"
   ]
  },
  {
   "cell_type": "markdown",
   "metadata": {},
   "source": [
    "- Take a random matrix $A$ of size $N\\times 2$ (N=10) where each line represents a different 2d point. Compute the euclidean distance matrix such that $E_{ij}$ is the distance between point $i$ and point $j$."
   ]
  },
  {
   "cell_type": "markdown",
   "metadata": {},
   "source": [
    "- Create A of size $10\\times 3$. Create matrix $B$ with the same column as $A$ reordered by sum of absolute values."
   ]
  },
  {
   "cell_type": "markdown",
   "metadata": {},
   "source": [
    "## Exercise 2: simulate AR1\n",
    "\n",
    "Take an AR1 process $x_t = A \\rho x_{t-1} + \\epsilon_t$ with $\\epsilon_t \\sim \\Sigma$ where $\\Sigma$ is a positive definite matrix.\n",
    "\n",
    "- Define 2x2 matrices $A$ and $\\Sigma$, the latter being symmetric positive definite"
   ]
  },
  {
   "cell_type": "markdown",
   "metadata": {},
   "source": [
    "- Compute asymptotic variance using matrix algebra (there is a recursive formula)"
   ]
  },
  {
   "cell_type": "markdown",
   "metadata": {},
   "source": [
    "- Simulate $N$ draws for $T$ periods and store the result in `sim`."
   ]
  },
  {
   "cell_type": "markdown",
   "metadata": {},
   "source": [
    "- Compute ergodic variance (bonus compute std of the variance estimate)"
   ]
  },
  {
   "cell_type": "markdown",
   "metadata": {},
   "source": [
    "- Plot a few simulations on the same graph"
   ]
  },
  {
   "cell_type": "markdown",
   "metadata": {},
   "source": [
    "- Plot asymptotic distribution (seaborn)"
   ]
  },
  {
   "cell_type": "markdown",
   "metadata": {},
   "source": [
    "- Bonus: write a faster simulation routine."
   ]
  },
  {
   "cell_type": "markdown",
   "metadata": {},
   "source": [
    "## Exercise 3: interpolation\n",
    "\n",
    "We consider the function $f(x) = sinc(\\lambda x) = \\frac{sin(\\lambda x)}{x}$.\n",
    "Let $I=(x_i)_{i=[1,10]}$ be a regularly spaced interval between -2 and +2, containing 10 points. Call $Y=(y_i)=f(x_i)$ the values of $f$ on this interval.\n",
    "Let $T$ be a test set with 1000 regularly spaced points between -2.5 and 2.5. \n",
    "\n",
    "The goal is to compare several ways interpolate function f on $T$.\n",
    "\n",
    "- Define `f`, `I`, `Y`, `T`"
   ]
  },
  {
   "cell_type": "markdown",
   "metadata": {},
   "source": [
    "- Construct a stepwise approximation using numpy indexing"
   ]
  },
  {
   "cell_type": "markdown",
   "metadata": {},
   "source": [
    "- Plot it"
   ]
  },
  {
   "cell_type": "markdown",
   "metadata": {},
   "source": [
    "- Construct a linear approximation using numpy"
   ]
  },
  {
   "cell_type": "markdown",
   "metadata": {},
   "source": [
    "- Use scipy.interpolate to get an approximation"
   ]
  },
  {
   "cell_type": "markdown",
   "metadata": {},
   "source": [
    "- (bonus) Use interpolation.py"
   ]
  },
  {
   "cell_type": "markdown",
   "metadata": {},
   "source": [
    "- Plot result"
   ]
  },
  {
   "cell_type": "markdown",
   "metadata": {},
   "source": [
    "- Increase number of points and test performance of various options"
   ]
  },
  {
   "cell_type": "markdown",
   "metadata": {},
   "source": [
    "- (bonus) optimize hand coded implementations using numba"
   ]
  },
  {
   "cell_type": "markdown",
   "metadata": {},
   "source": [
    "- (bonus^2) same steps in 2d space"
   ]
  }
 ],
 "metadata": {
  "kernelspec": {
   "display_name": "Python 3",
   "language": "python",
   "name": "python3"
  },
  "language_info": {
   "codemirror_mode": {
    "name": "ipython",
    "version": 3
   },
   "file_extension": ".py",
   "mimetype": "text/x-python",
   "name": "python",
   "nbconvert_exporter": "python",
   "pygments_lexer": "ipython3",
   "version": "3.6.8"
  }
 },
 "nbformat": 4,
 "nbformat_minor": 2
}
