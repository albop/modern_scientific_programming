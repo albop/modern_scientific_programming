{
 "cells": [
  {
   "cell_type": "markdown",
   "metadata": {},
   "source": [
    "# Exercise (level 1)"
   ]
  },
  {
   "cell_type": "markdown",
   "metadata": {},
   "source": [
    "## Exercise 1:\n",
    "\n",
    "- create 2d array $M$ such of size 3*3 such that $M_{ij} = i*j$"
   ]
  },
  {
   "cell_type": "markdown",
   "metadata": {},
   "source": [
    "## Exercise 2: simulate AR1\n",
    "\n",
    "Take an AR1 process $x_t = A \\rho x_{t-1} + \\epsilon_t$ with $\\epsilon_t \\sim  \\Sigma$. \n",
    "- Define 2x2 matrices $A$ and $\\Sigma$, the latter being symmetric\n",
    "- Compute asymptotic variance using matrix algebra (there is a recursive formula)\n",
    "- Simulate $N$ draws for $T$ periods and store the result in `sim`.\n",
    "- Compute ergodic variance (bonus compute std of the variance estimate)\n",
    "- Plot a few simulations on the same graph\n",
    "- Plot asymptotic distribution\n",
    "- Bonus: write a faster simulation routine."
   ]
  },
  {
   "cell_type": "markdown",
   "metadata": {},
   "source": [
    "## Exercise 3: interpolation\n",
    "\n",
    "We consider the function $f(x) = sinc(\\lambda x) = \\frac{sin(\\lambda x)}{x}$.\n",
    "Let $I=(x_i)_{i=[1,10]}$ be a regularly spaced interval between -2 and +2, containing 10 points. Call $Y=(y_i)=f(x_i)$ the values of $f$ on this interval.\n",
    "Let $T$ be a test set with 1000 regularly spaced points between -2.5 and 2.5. \n",
    "\n",
    "The goal is to compare several ways interpolate function f on $T$.\n",
    "\n",
    "- Define `f`, `I`, `Y`, `T`\n",
    "- Construct a stepwise approximation using numpy indexing\n",
    "- Plot it\n",
    "- Construct a linear approximation using numpy\n",
    "- Use scipy.interpolate to get an approximation\n",
    "- (bonus) Use interpolation.py\n",
    "- Plot result\n",
    "- Increase number of points and test performance of various options\n",
    "- (bonus) optimize hand coded implementations using numba\n",
    "- (bonus^2) same steps in 2d space"
   ]
  },
  {
   "cell_type": "code",
   "execution_count": null,
   "metadata": {},
   "outputs": [],
   "source": []
  }
 ],
 "metadata": {
  "kernelspec": {
   "display_name": "Python 3",
   "language": "python",
   "name": "python3"
  },
  "language_info": {
   "codemirror_mode": {
    "name": "ipython",
    "version": 3
   },
   "file_extension": ".py",
   "mimetype": "text/x-python",
   "name": "python",
   "nbconvert_exporter": "python",
   "pygments_lexer": "ipython3",
   "version": "3.7.2"
  }
 },
 "nbformat": 4,
 "nbformat_minor": 2
}
