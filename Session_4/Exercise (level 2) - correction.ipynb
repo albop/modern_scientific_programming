{
 "cells": [
  {
   "cell_type": "markdown",
   "metadata": {},
   "source": [
    "# The N-armed bandit problems\n",
    "\n",
    "Let's look at a famous reinforcement learning problem called the N-armed bandit problem. A client in a casino, has access to several levers, each one yielding money with a different distribution of probabilities. Given that the client has no prior knowledge of these distributions, he must tries each lever several times before he can infer which one is best. Of course, this involves a tradeoff between trying a lever whose payoff is uncertain (a.k.a exploring) and repeatedly using the lever that yields the highest return in average.\n",
    "\n",
    "This seemingly simple problem is a classic in the machine learning field and many nontrivial algorithm were devised to find an operational solution to it. Inspiration for the examples below example was drawn from *Reinforcement Learning:\n",
    "An Introduction*, a book by Richard S. Sutton and Andrew G. Barto, which is also available as [html](http://webdocs.cs.ualberta.ca/~sutton/book/the-book.html)\n",
    "\n",
    "Here, I consider only two very simple strategies, namely Monte-Carlo simulations and an $\\epsilon$-greedy strategy. Their performance is assessed by running a large number of simulations for each of them. The programming challenge will be to write a Python program whose computation time does not increase to fast so as to make this comparison feasible. Luckily, Python has many available options to optimize optimize. We will use this learning exercise to review two of them: vectorization and Just-In-Time copmilation.\n",
    "\n",
    "[This notebook was initially conceived as an interactive exercise for the Workshop on High Performance Computing that took place before the CEF 2014 conference in [Oslo](http://comp-econ.org/CEF_2014/Oslo). Each bullet point was meant as a question to solve by participant. You can download the initial exercise without the answers from here : [give link]."
   ]
  },
  {
   "cell_type": "markdown",
   "metadata": {},
   "source": [
    "## Try it yourself !\n",
    "\n",
    "If you run this notebook on your computer, and if you drop the `n_armed_bandit_game.py`, in the same directory as the notebook, you can try to play the N-armed bandit game yourself.\n",
    "\n",
    "Click each button in turn and try to maximize the total discounted value. The value reported next to each button $i$ is the average of the past payoffs for bandit $i$."
   ]
  },
  {
   "cell_type": "code",
   "execution_count": 2,
   "metadata": {
    "collapsed": false
   },
   "outputs": [
    {
     "data": {
      "application/vnd.jupyter.widget-view+json": {
       "model_id": "df72ba0b91754618a4ed98c72d71d881",
       "version_major": 2,
       "version_minor": 0
      },
      "text/plain": [
       "VBox(children=(HBox(children=(VBox(children=(Button(description='Bandit 0', style=ButtonStyle()), HTML(value='…"
      ]
     },
     "metadata": {},
     "output_type": "display_data"
    }
   ],
   "source": [
    "from n_armed_bandit_game import HumanPlayer\n",
    "hp = HumanPlayer(5)\n",
    "hp.display()"
   ]
  },
  {
   "cell_type": "markdown",
   "metadata": {},
   "source": [
    "## Definition of the problem\n",
    "\n",
    "Let's define the problem more formally.\n",
    "\n",
    "Take N random distributions $\\left(d(n)\\right)_{n\\in[1,N]}$. Each distribution is called an arm of the machine.\n",
    "\n",
    "The Player faces a machine with $N$ arms. Each arm $n\\in[1,N]$ gives a stochastic payoff $d(n)$ which is i.i.d.\n",
    "\n",
    "The distribution of the rewards is unknown but at each date $t\\in [1,T]$ the player can take an action $n$ and get the stochastic payoff $d(n)$.\n",
    "\n",
    "His goal is to choose a series of actions $(a_t)_{0\\leq t \\leq T}$  at each time to maximize intertemporal utility $\\sum_{0 \\leq t \\leq T} \\beta^t U(d_{a_t})$ with $0<\\beta<1$ and $U(x)=\\frac{x^{1-\\gamma}}{1-\\gamma}$ with $\\gamma>1$.\n",
    "\n",
    "The player doesn't know the distributions of reward of each arm \n"
   ]
  },
  {
   "cell_type": "markdown",
   "metadata": {},
   "source": [
    "## Objective\n",
    "\n",
    "The goal of this tutorial is to implement simple learning strategy. \n",
    "- a stupid Monte-Carlo strategy\n",
    "- an $\\epsilon$ greedy strategy where the optimal action is selected with probability $1-\\epsilon$ while a random action is taken with probability $\\epsilon$\n",
    "\n",
    "Each strategy will be given $K=1000$ different randomly drawn games to play, each of them being a $T=10000$ periods learning episode. Then we will average over the $K$ experiments to see which is the best strategy. In particular, we want to find the value of $\\epsilon$ that yields the optimal exploration/exploitation tradeoff for our distribution of problems."
   ]
  },
  {
   "cell_type": "markdown",
   "metadata": {},
   "source": [
    "# Coding the problem"
   ]
  },
  {
   "cell_type": "markdown",
   "metadata": {},
   "source": [
    "We will assume that the $d(n)$ are normally distributed with standard deviation $1$. The means $(m_n)$ of these distribution are a permutation of the equally distributed points $\\left(\\frac{n-1}{N-1}\\right)_{n\\in[1,N]}$."
   ]
  },
  {
   "cell_type": "code",
   "execution_count": 2,
   "metadata": {
    "collapsed": false
   },
   "outputs": [],
   "source": [
    "from numpy import *"
   ]
  },
  {
   "cell_type": "code",
   "execution_count": 3,
   "metadata": {
    "collapsed": false
   },
   "outputs": [],
   "source": [
    "# we choose the parameters:\n",
    "\n",
    "T = 1000\n",
    "K = 10000\n",
    "\n",
    "N = 5        # number of arms\n",
    "beta = 0.95   # discount factor\n",
    "gamma = 0.5   # risk aversion"
   ]
  },
  {
   "cell_type": "markdown",
   "metadata": {},
   "source": [
    "- draw an instance of the problem as two one-dimensional arrays of size N, `means` and `deviations`"
   ]
  },
  {
   "cell_type": "code",
   "execution_count": 3,
   "metadata": {
    "collapsed": false
   },
   "outputs": [],
   "source": [
    "# response 1\n"
   ]
  },
  {
   "cell_type": "markdown",
   "metadata": {},
   "source": [
    "# Finding the Best Arm with Monte-Carlo simulations (and use vectorized computations)\n",
    "\n",
    "Here we consider a very simple strategy: \n",
    "- Given an integer $T_1$. During $N T_1$ periods, we use each lever in turn in order to estimate the lever that yields the higher utility.\n",
    "- Then, until last date $T$, we us the lever for which expected utility is higher."
   ]
  },
  {
   "cell_type": "code",
   "execution_count": 5,
   "metadata": {
    "collapsed": false
   },
   "outputs": [],
   "source": [
    "T1 = 10"
   ]
  },
  {
   "cell_type": "markdown",
   "metadata": {},
   "source": [
    "This algorithm can be expressed in a way that doesn't require any conditional operation. The first and the second step can be expressed as a series of array operations. \n",
    "\n",
    "----\n",
    "- create an array `'rewards'` of size $N \\times T_1$ such that each line $n$ contains $T_1$ realizations of the distribution $d(n)$"
   ]
  },
  {
   "cell_type": "code",
   "execution_count": null,
   "metadata": {
    "collapsed": false
   },
   "outputs": [],
   "source": []
  },
  {
   "cell_type": "markdown",
   "metadata": {},
   "source": [
    "----\n",
    "- estimate the mean utility procured by each arm and select the best arm"
   ]
  },
  {
   "cell_type": "code",
   "execution_count": 7,
   "metadata": {
    "collapsed": false
   },
   "outputs": [],
   "source": []
  },
  {
   "cell_type": "code",
   "execution_count": 8,
   "metadata": {
    "collapsed": false
   },
   "outputs": [
    {
     "data": {
      "text/plain": [
       "array([ 0.78126682,  1.32556455,  1.4223774 ,  0.49238937,  1.01025611])"
      ]
     },
     "execution_count": 8,
     "metadata": {},
     "output_type": "execute_result"
    }
   ],
   "source": []
  },
  {
   "cell_type": "markdown",
   "metadata": {},
   "source": [
    "----\n",
    "- compute the estimated mean of each distribution and the discounted value of playing each arm in turn during $N T_1$ periods."
   ]
  },
  {
   "cell_type": "code",
   "execution_count": null,
   "metadata": {
    "collapsed": false
   },
   "outputs": [],
   "source": []
  },
  {
   "cell_type": "markdown",
   "metadata": {},
   "source": [
    "----\n",
    "- compute the value of the strategy"
   ]
  },
  {
   "cell_type": "code",
   "execution_count": null,
   "metadata": {
    "collapsed": false
   },
   "outputs": [],
   "source": []
  },
  {
   "cell_type": "markdown",
   "metadata": {},
   "source": [
    "To profile the efficiency of these computations, the easiest way consists in encapsulate them in a function and profile this functions using IPython's `prun` magic.\n",
    "\n",
    "----\n",
    "- encapsulate the algorithm as a function and profile it (use ipython magic `%prun -s time`)"
   ]
  },
  {
   "cell_type": "code",
   "execution_count": 11,
   "metadata": {
    "collapsed": false
   },
   "outputs": [],
   "source": []
  },
  {
   "cell_type": "code",
   "execution_count": 12,
   "metadata": {
    "collapsed": false
   },
   "outputs": [
    {
     "data": {
      "text/plain": [
       "[0.56510584443015477, 1.0870655863145628, 14.169619748693677, True]"
      ]
     },
     "execution_count": 12,
     "metadata": {},
     "output_type": "execute_result"
    }
   ],
   "source": [
    "semi_monte_carlo(beta, T, 100, means, deviations) "
   ]
  },
  {
   "cell_type": "code",
   "execution_count": 13,
   "metadata": {
    "collapsed": false
   },
   "outputs": [],
   "source": [
    "exps = [semi_monte_carlo(beta, T, 100, means, deviations) for i in range(K)]"
   ]
  },
  {
   "cell_type": "code",
   "execution_count": 14,
   "metadata": {
    "collapsed": false
   },
   "outputs": [
    {
     "name": "stdout",
     "output_type": "stream",
     "text": [
      " "
     ]
    }
   ],
   "source": [
    "%prun -s time all_values = array([semi_monte_carlo(beta, T, 100, means, deviations) for i in range(K)])"
   ]
  },
  {
   "cell_type": "markdown",
   "metadata": {},
   "source": [
    "Note that we invode the `prun` command with option `-s time` so that functions taking more computation time, appear first. The first lines show something like:\n",
    "```\n",
    "   21004 function calls in 1.612 seconds\n",
    "\n",
    "   Ordered by: internal time\n",
    "\n",
    "   ncalls  tottime  percall  cumtime  percall filename:lineno(function)\n",
    "     1000    1.249    0.001    1.582    0.002 <ipython-input-13-645b3a1ee348>:1(semi_monte_carlo)\n",
    "     1000    0.149    0.000    0.149    0.000 {method 'rand' of 'mtrand.RandomState' objects}\n",
    "     1000    0.094    0.000    0.102    0.000 function_base.py:8(linspace)\n",
    "        1    0.030    0.030    1.612    1.612 <string>:1(<module>)\n",
    "     1000    0.027    0.000    0.027    0.000 {numpy.core._dotblas.dot}\n",
    "```\n",
    "Appart from the generation of random numbers by the rand method, it looks like most of the time is spent in the vector operations in the `semi_monte_carlo` method. Since these are presumed to be very efficient, there doesn't seem to be much room for improvement.\n",
    "\n",
    "NOTE: there actually *is* room for improvements. From an algorithmic perspective, the procedure could be vectorized across all experiments. Also, vectorized operations using `numpy` arrays are much better than interpreted loops but they don't make efficiently use of CPU and memory resources. `numexpr` and `theano` are two libraries that seek to optimize this kind of vector operations. I leave it as an exercise for the reader, or for a later post."
   ]
  },
  {
   "cell_type": "markdown",
   "metadata": {},
   "source": [
    "----\n",
    "\n",
    "- Find the optimal number of periods to spend on monte-carlo evaluations"
   ]
  },
  {
   "cell_type": "code",
   "execution_count": 15,
   "metadata": {
    "collapsed": false
   },
   "outputs": [],
   "source": [
    "def average_payoff(T1, K):\n",
    "    \n",
    "    vals = []\n",
    "    for k in range(K):\n",
    "        [means, deviations] = new_problem(N)\n",
    "        res =  semi_monte_carlo(beta,T, T1, means, deviations)\n",
    "        vals.append(res)\n",
    "        \n",
    "    return array(vals).mean(axis=0)"
   ]
  },
  {
   "cell_type": "code",
   "execution_count": 16,
   "metadata": {
    "collapsed": false
   },
   "outputs": [],
   "source": [
    "T1_vec = range(0,15)\n",
    "AP_array = array([average_payoff(T1, K) for T1 in T1_vec])"
   ]
  },
  {
   "cell_type": "code",
   "execution_count": 17,
   "metadata": {
    "collapsed": false
   },
   "outputs": [
    {
     "data": {
      "text/plain": [
       "<matplotlib.text.Text at 0x7f7a2989f450>"
      ]
     },
     "execution_count": 17,
     "metadata": {},
     "output_type": "execute_result"
    },
    {
     "data": {
      "image/png": "[encoded data removed]",
      "text/plain": [
       "<matplotlib.figure.Figure at 0x7f7a29c67c10>"
      ]
     },
     "metadata": {},
     "output_type": "display_data"
    }
   ],
   "source": [
    "from matplotlib.pyplot import *\n",
    "%matplotlib inline\n",
    "figure(figsize=(10,6))\n",
    "\n",
    "subplot(311)\n",
    "plot(T1_vec, AP_array[:,0], label='initial phase')\n",
    "plot(T1_vec, AP_array[:,1], label='final phase')\n",
    "legend()\n",
    "ylabel(\"Mean payoff\")\n",
    "\n",
    "subplot(312)\n",
    "plot(T1_vec, AP_array[:,2], label='value')\n",
    "legend(loc='lower right')\n",
    "ylabel(\"Expected value\")\n",
    "\n",
    "subplot(313)\n",
    "plot(T1_vec, AP_array[:,3])\n",
    "xlabel(\"Number of explorative steps: $T1$\")\n",
    "ylabel(\"Best option (%)\")\n",
    "\n",
    "\n"
   ]
  },
  {
   "cell_type": "markdown",
   "metadata": {},
   "source": [
    "The first panel of the above graph show that explorative steps have a constant payoff over time, equal to 0.5. This is because it treats all levers symetrically. However, more explorative steps, increases in expectation the payoff of the final phase because it produces more information about which is the optimal lever to triger. The lower panel is consistent with this observation: it shows that the best button is selected more often when more explorative steps are taken.vec\n",
    "\n",
    "Of course, the as soon as some information is known about the better levers, exploration becomes more costly because it implies underoptimal payoffs. For this reason, there is an optimal number of exploration steps to take, before the greedy approach becomes optimal. In the parametrization that we use, the optimal choice is $T1=2$, meaning that each trigger is triggered two times exactly, before the agent selects the higher yielding one."
   ]
  },
  {
   "cell_type": "markdown",
   "metadata": {},
   "source": [
    "# $\\epsilon$-greedy strategies\n",
    "\n",
    "We now consider a more elaborate strategy. Like in the former algorithm, we maintain a guess for the expected reward of each arm.\n",
    "But at each step we choose between \"exploiting\" the best option or \"exploring\" another one at random.\n",
    "\n",
    "Here is the definition of the algorithm. At each step:\n",
    "\n",
    "At each step: \n",
    "- take an action\n",
    " - with probability $1-\\epsilon$, choose the arm that is believed to have higher return (greedy option)\n",
    " - with probability $\\epsilon$ take another arm at random    \n",
    "- Update the expection of the chosen option.\n",
    "\n"
   ]
  },
  {
   "cell_type": "markdown",
   "metadata": {},
   "source": [
    "----\n",
    "- implement the epsilon-greedy algorithm"
   ]
  },
  {
   "cell_type": "code",
   "execution_count": 18,
   "metadata": {
    "collapsed": false
   },
   "outputs": [],
   "source": [
    "def pick(means, deviations, a):\n",
    "    \n",
    "    return numpy.random.randn()*deviations[a] + means[a]\n",
    "\n",
    "\n",
    "from numba import jit\n",
    "\n",
    "def play(beta, T, means, deviations, epsilon=0.1):\n",
    "    \n",
    "    '''\n",
    "    T:        number periods\n",
    "    means:    variances of the problem\n",
    "    estimate: \n",
    "    '''\n",
    "    \n",
    "    N = len(means)\n",
    "    average_reward = 0\n",
    "    value = 0\n",
    "    best = 0\n",
    "    \n",
    "    discount = 1\n",
    "        \n",
    "    estimate = numpy.ones(N)*0.5\n",
    "    \n",
    "    for t in range(T):\n",
    "        \n",
    "        greedy = numpy.random.rand()>epsilon\n",
    "        \n",
    "        if greedy:\n",
    "            action = best\n",
    "            \n",
    "        else:\n",
    "            action = numpy.random.randint(N)\n",
    "            \n",
    "        rew = pick(means, deviations, action)\n",
    "        \n",
    "        estimate[action] =  (estimate[action]*(t) + rew)/(t+1)\n",
    "            \n",
    "        best = numpy.argmax(estimate)\n",
    "    \n",
    "        value += rew*discount\n",
    "        \n",
    "        discount *= beta\n",
    "        \n",
    "    return value"
   ]
  },
  {
   "cell_type": "markdown",
   "metadata": {},
   "source": [
    "----\n",
    "- compute the average return over $K$ experiments for $\\epsilon=0.01$"
   ]
  },
  {
   "cell_type": "code",
   "execution_count": 19,
   "metadata": {
    "collapsed": false
   },
   "outputs": [
    {
     "name": "stdout",
     "output_type": "stream",
     "text": [
      "CPU times: user 56.2 s, sys: 82.1 ms, total: 56.3 s\n",
      "Wall time: 56.4 s\n"
     ]
    },
    {
     "data": {
      "text/plain": [
       "14.656126325240169"
      ]
     },
     "execution_count": 19,
     "metadata": {},
     "output_type": "execute_result"
    }
   ],
   "source": [
    "%time array( [  play(beta, T, means, deviations, 0.01) for n in range(K) ] ).mean()"
   ]
  },
  {
   "cell_type": "markdown",
   "metadata": {},
   "source": [
    "Aouch, this naive approach took approximately one minute to complete... But we can certainly do better. As we did before, we will try to locate bottlenecks by profiling the code.\n",
    "\n",
    "----\n",
    "- profile using prun"
   ]
  },
  {
   "cell_type": "code",
   "execution_count": 20,
   "metadata": {
    "collapsed": false
   },
   "outputs": [
    {
     "name": "stdout",
     "output_type": "stream",
     "text": [
      " "
     ]
    }
   ],
   "source": [
    "%prun -s time values = array( [  play(beta, T, means, deviations, 0.01) for n in range(K) ] )"
   ]
  },
  {
   "cell_type": "markdown",
   "metadata": {},
   "source": [
    "The output of the profiler is something like:\n",
    "    \n",
    "```\n",
    "         50160319 function calls in 67.440 seconds\n",
    "\n",
    "   Ordered by: internal time\n",
    "\n",
    "   ncalls  tottime  percall  cumtime  percall filename:lineno(function)\n",
    "    10000   41.060    0.004   67.412    0.007 <ipython-input-131-7bcf9468a19b>:8(play)\n",
    " 10000000   12.652    0.000   15.191    0.000 <ipython-input-131-7bcf9468a19b>:1(pick)\n",
    " 10000000    5.408    0.000    5.408    0.000 {method 'argmax' of 'numpy.ndarray' objects}\n",
    " 10000000    3.722    0.000    9.130    0.000 fromnumeric.py:878(argmax)\n",
    " 10000000    2.539    0.000    2.539    0.000 {method 'randn' of 'mtrand.RandomState' objects}\n",
    " 10000000    1.794    0.000    1.794    0.000 {method 'rand' of 'mtrand.RandomState' objects}\n",
    "    10001    0.114    0.000    0.114    0.000 {range}\n",
    "    10000    0.048    0.000    0.048    0.000 {numpy.core.multiarray.copyto}\n",
    "```\n",
    "    \n",
    "Here is how we can decode these timings:\n",
    "- 41 seconds are spent in the play function (excluding calls to functions) in doing  basic operations. This is something that we can certainly reduce a lot by compiling the corresponding code with Numba.\n",
    "- 13 seconds are spent in calling the pick function that also consists in one addition, one substration and some subscripting. Here is cost of defining a convenience function looks prohibitive, we will integrate it in the main loop\n",
    "- 5 seconds are spent waiting for the function argmax to complete. We don't need it anyway and will replace it by a manual comparison of two values.\n",
    "- 4 seconds are spent in the random generator `rand` and `randn`. To minimize overhead, we will vectorize them.\n",
    "\n",
    "The result of these optimization will be a preamble where we draw all random numbers in advance, followed by all conditional steps written with only simple python constructs. That will allow the use of the `njit` compiler of numba that lowers all objects to low-level objects. (think: \"like if they were translated to C\").\n"
   ]
  },
  {
   "cell_type": "markdown",
   "metadata": {},
   "source": [
    "----\n",
    "- optimize function play using numba"
   ]
  },
  {
   "cell_type": "code",
   "execution_count": 21,
   "metadata": {
    "collapsed": false
   },
   "outputs": [],
   "source": [
    "from numba import jit, njit\n",
    "\n",
    "from numpy import exp\n",
    "\n",
    "import random\n",
    "\n",
    "# the function play_numba starts by drawing all random numbers and then calls the iterative steps\n",
    "# since the content of `play_numba` mostly vectorized, we would gain little by compiling it.\n",
    "def play_numba(beta, T, means, deviations, epsilon):\n",
    "    \n",
    "    '''\n",
    "    T:        number periods\n",
    "    means:    variances of the problem\n",
    "    estimate: \n",
    "    '''\n",
    "    \n",
    "    N = len(means)\n",
    "    average_reward = 0.5\n",
    "    \n",
    "    discount = 1\n",
    "        \n",
    "    estimate = numpy.ones(N)*0.5\n",
    "\n",
    "    random_draws = numpy.random.randn(T)\n",
    "    random_ints = numpy.random.randint(0,N-1,size=T) # there are too many draws\n",
    "    random_vals = numpy.random.random(T)\n",
    "    \n",
    "    value = inside_loop(beta, T, means, deviations, estimate, random_draws, random_ints, random_vals, epsilon)\n",
    "        \n",
    "    return value\n",
    "\n",
    "@njit\n",
    "def inside_loop(beta, T, means, deviations, estimate, random_draws, random_ints, random_vals, epsilon):\n",
    "\n",
    "    best = 0\n",
    "    value = 0\n",
    "    discount = 1\n",
    "\n",
    "    for t in range(T):\n",
    "        \n",
    "        greedy = random_vals[t]>epsilon\n",
    "        \n",
    "        if greedy:\n",
    "            action = best\n",
    "            \n",
    "        else:\n",
    "            action = random_ints[t]\n",
    "            if action == best:\n",
    "                action += 1\n",
    "            \n",
    "        # the pick function is inlined here\n",
    "        rew = random_draws[t]*deviations[action] + means[action]\n",
    "\n",
    "        new_estimate =  (estimate[action]*(t) + rew)/(t+1)\n",
    "\n",
    "        # this replaces the call to argmax\n",
    "        if new_estimate > estimate[best]:\n",
    "            best = action\n",
    "            \n",
    "        estimate[action] = new_estimate\n",
    "\n",
    "        value += rew*discount\n",
    "        \n",
    "        discount *= beta\n",
    "        \n",
    "    return value\n"
   ]
  },
  {
   "cell_type": "code",
   "execution_count": 22,
   "metadata": {
    "collapsed": false
   },
   "outputs": [
    {
     "name": "stdout",
     "output_type": "stream",
     "text": [
      "CPU times: user 1.37 s, sys: 8.58 ms, total: 1.38 s\n",
      "Wall time: 1.37 s\n"
     ]
    }
   ],
   "source": [
    "%time all_values = array( [  play_numba(beta, T, means, deviations, 0.01) for n in range(K) ] )"
   ]
  },
  {
   "cell_type": "markdown",
   "metadata": {},
   "source": [
    "This is much better ! We have divided the time by 40.\n",
    "\n",
    "Now we can try to vary the exploration parameter $\\epsilon$ to see if the $\\epsilon$-greedy can perform better than the very simple Monte-Carlo strategy. \n",
    "\n",
    "----\n",
    "- Find the epsilon that maximzes average value over K simulations"
   ]
  },
  {
   "cell_type": "code",
   "execution_count": 23,
   "metadata": {
    "collapsed": false
   },
   "outputs": [],
   "source": [
    "def average_payoff_for_epsilon(epsilon, K):\n",
    "    vals = []\n",
    "    for k in range(K):\n",
    "        means, deviations = new_problem(N)\n",
    "        val =  play_numba(beta, T, means, deviations, epsilon)\n",
    "        vals.append(val)\n",
    "    return array(vals).mean()"
   ]
  },
  {
   "cell_type": "code",
   "execution_count": 24,
   "metadata": {
    "collapsed": false
   },
   "outputs": [],
   "source": [
    "epsilon_vec = linspace(0.01, 0.5, 10)\n",
    "payoff_vec = [average_payoff_for_epsilon(epsilon,K) for epsilon in epsilon_vec]"
   ]
  },
  {
   "cell_type": "code",
   "execution_count": 25,
   "metadata": {
    "collapsed": false
   },
   "outputs": [
    {
     "data": {
      "text/plain": [
       "<matplotlib.legend.Legend at 0x7f7a25979b90>"
      ]
     },
     "execution_count": 25,
     "metadata": {},
     "output_type": "execute_result"
    },
    {
     "data": {
      "image/png": "[encoded data removed]",
      "text/plain": [
       "<matplotlib.figure.Figure at 0x7f7a555f8ed0>"
      ]
     },
     "metadata": {},
     "output_type": "display_data"
    }
   ],
   "source": [
    "from matplotlib.pyplot import *\n",
    "%matplotlib inline\n",
    "\n",
    "plot(epsilon_vec, payoff_vec, label='$\\epsilon$-greedy')\n",
    "mm = AP_array[:,2].max()\n",
    "hlines(mm,*xlim(), label='Monte-Carlo')\n",
    "legend(loc='lower right')"
   ]
  },
  {
   "cell_type": "markdown",
   "metadata": {},
   "source": [
    "For this parametrization of the problem, the optimal $\\epsilon$ is approximately $0.2$. This means that one selects what is believed to be the best lever with probability 80%, while a random choice is made with probability 20%.\n",
    "\n",
    "Note that here, the Monte-Carlo approach performs better than the $\\epsilon$ greedy approach. However, no generalization should be made out of it."
   ]
  }
 ],
 "metadata": {
  "kernelspec": {
   "display_name": "Python 3",
   "language": "python",
   "name": "python3"
  },
  "language_info": {
   "codemirror_mode": {
    "name": "ipython",
    "version": 3
   },
   "file_extension": ".py",
   "mimetype": "text/x-python",
   "name": "python",
   "nbconvert_exporter": "python",
   "pygments_lexer": "ipython3",
   "version": "3.7.1"
  }
 },
 "nbformat": 4,
 "nbformat_minor": 2
}
