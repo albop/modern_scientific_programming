{
 "cells": [
  {
   "cell_type": "markdown",
   "metadata": {
    "slideshow": {
     "slide_type": "slide"
    }
   },
   "source": [
    "# Modern Scientific Programming\n",
    "\n",
    "PSE, 2019\n",
    "\n",
    "Pablo Winant"
   ]
  },
  {
   "cell_type": "markdown",
   "metadata": {
    "slideshow": {
     "slide_type": "slide"
    }
   },
   "source": [
    "## About Myself\n",
    "\n",
    "- (computational) economist\n",
    "- worked at IMF and Bank of England\n",
    "    - DSGE modeling\n",
    "    - various technological projects\n",
    "- involved in several opensource projects\n",
    "    - quantecon (Tom Sargent and John Stachurski)\n",
    "    - ARK (Chris Carrol)\n",
    "    - dolo/dolark/bttt\n",
    "    - ...\n",
    "- research\n",
    "    - macro stuff (international finance, inequalities, optimal policies)\n",
    "    - machine learning (especially neural networks)"
   ]
  },
  {
   "cell_type": "markdown",
   "metadata": {
    "slideshow": {
     "slide_type": "slide"
    }
   },
   "source": [
    "## What is Modern Scientific Programming?\n",
    "\n",
    "- scientific programming\n",
    "    - algorithm\n",
    "    - speed, memory efficiency, accuracy\n",
    "    - = numerical methods (judd) + Fortran\n",
    "    \n",
    "- modern?\n",
    "    - versioned\n",
    "    - opensource, free\n",
    "    - reproducible\n",
    "    - multilanguage\n",
    "    - multiplatform"
   ]
  },
  {
   "cell_type": "markdown",
   "metadata": {
    "slideshow": {
     "slide_type": "slide"
    }
   },
   "source": [
    "## Versioned, open source\n",
    "\n",
    "- git is a decentralized, versioning system\n",
    "- github adds online collaborative tools\n",
    "- it has fostered, the development of many softwares, libraries (linux, python, Julia, R, etc.)\n",
    "- industry and community have converged on the same tools"
   ]
  },
  {
   "cell_type": "markdown",
   "metadata": {
    "slideshow": {
     "slide_type": "slide"
    }
   },
   "source": [
    "### graph about adoption of software since the introduction of Github\n",
    "\n",
    "![](gh.png)"
   ]
  },
  {
   "cell_type": "markdown",
   "metadata": {
    "slideshow": {
     "slide_type": "slide"
    }
   },
   "source": [
    "## Reproducible and interactive\n",
    "\n",
    "- Use open data\n",
    "- Being able to reproduce the exact environment used for data processing and computations\n",
    "- Provide interactive views of the results"
   ]
  },
  {
   "cell_type": "markdown",
   "metadata": {
    "slideshow": {
     "slide_type": "slide"
    }
   },
   "source": [
    "## Multilanguage\n",
    "\n",
    "Several programming languages, with different strengths\n",
    "- C/Fortran: low-level speed\n",
    "- Python: easy, readable, many scientific libraries, glue language\n",
    "- Julia: low-level speed, high-level features\n",
    "\n",
    "can interact...\n",
    "\n",
    "Lots of specialized language are useful too (for research)\n",
    "- html/javascript\n",
    "- vega/ggog\n",
    "- yaml/json\n",
    "- database (sql)\n",
    "- tensorflow (deep learning)"
   ]
  },
  {
   "cell_type": "markdown",
   "metadata": {
    "slideshow": {
     "slide_type": "slide"
    }
   },
   "source": [
    "## Multiplatforms\n",
    "\n",
    "Calculations can (must be run) on a variety of different platforms:\n",
    "\n",
    "- laptop\n",
    "- server\n",
    "- virtual machine / container\n",
    "- farm of computers\n",
    "- specialized hardware (e.g. GPU, TPU)"
   ]
  },
  {
   "cell_type": "markdown",
   "metadata": {
    "slideshow": {
     "slide_type": "slide"
    }
   },
   "source": [
    "## Why should you learn to program ?\n",
    "\n",
    "- Econometricians, modellers, data scientists, spend a lot of time writing code\n",
    "    - and do it inefficiently...\n",
    "- Programming efficiently requires awareness of\n",
    "    - certain basic concepts: (types, control flow, functions, objects)\n",
    "    - some tools (programming language, code versioning, command line)\n",
    "    - which are never taught...\n",
    "- And yet they are very easy to learn\n",
    "    - anyone can become an expert !"
   ]
  },
  {
   "cell_type": "markdown",
   "metadata": {
    "slideshow": {
     "slide_type": "slide"
    }
   },
   "source": [
    "## Now *is* the right time !\n",
    "\n",
    "- A lot of demand everywhere for skilled programmers.\n",
    "\n",
    "- Many faculties are introducing formal programming courses (for economists)\n",
    "    - MIT, NYU, Penn, ...\n",
    "    - Summer Bootcamps\n",
    "    \n",
    "    \n",
    "- New applications are even more code-intensive than before:\n",
    "\n",
    "    - data science\n",
    "    - machine learning\n",
    "    - modeling"
   ]
  },
  {
   "cell_type": "markdown",
   "metadata": {
    "slideshow": {
     "slide_type": "slide"
    }
   },
   "source": [
    "## Do it in the open ! (2)\n",
    "\n",
    "- Many excellent online resources:\n",
    "\n",
    "    - [Software Carpentry](https://software-carpentry.org/)\n",
    "    - [QuantEcon](https://quantecon.org/news-item/need-for-speed-in-julia) from Tom Sargent and John Stachurski\n",
    "    \n",
    "    \n",
    "- Opensource community is very welcoming:\n",
    "\n",
    "    - ask on mailing lists or online chats (Julia users, quantecon, dynare, ...)\n",
    "    - open issues (for instance against Dolo (https://github.com/EconForge/Dolo.jl/issues)[https://github.com/EconForge/Dolo.jl/issues]\n",
    "    - participating is also a great occasion to learn"
   ]
  },
  {
   "cell_type": "markdown",
   "metadata": {
    "slideshow": {
     "slide_type": "slide"
    }
   },
   "source": [
    "## Mental Break: even toddlers can learn to program\n",
    "\n",
    "https://www.youtube.com/watch?v=4gN9nPB7LIw\n",
    "\n",
    "https://www.kickstarter.com/projects/primotoys/cubetto-hands-on-coding-for-girls-and-boys-aged-3"
   ]
  },
  {
   "cell_type": "markdown",
   "metadata": {
    "slideshow": {
     "slide_type": "slide"
    }
   },
   "source": [
    "## For next time\n",
    "\n",
    "- Register on zulip if not done already.\n",
    "- Install Anaconda Python 3.7 (user-wide so that packages can be installed without admin rights"
   ]
  }
 ],
 "metadata": {
  "celltoolbar": "Slideshow",
  "kernelspec": {
   "display_name": "Python 3",
   "language": "python",
   "name": "python3"
  },
  "language_info": {
   "codemirror_mode": {
    "name": "ipython",
    "version": 3
   },
   "file_extension": ".py",
   "mimetype": "text/x-python",
   "name": "python",
   "nbconvert_exporter": "python",
   "pygments_lexer": "ipython3",
   "version": "3.7.1"
  }
 },
 "nbformat": 4,
 "nbformat_minor": 2
}
