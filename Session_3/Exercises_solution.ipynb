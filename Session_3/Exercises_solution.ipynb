{
 "cells": [
  {
   "cell_type": "markdown",
   "metadata": {
    "inputHidden": false,
    "outputHidden": false
   },
   "source": [
    "# Basic Python Excercises\n",
    "The goal of this tutorial is to experiment with the basic Python types. Before trying to solve the exercises it is suggested to read and run first the notebook Introduction to Python\n",
    "### Exercise 1\n",
    "Decode the following sentence by:\n",
    "- replacing each letter by its position in the alphabet\n",
    "- add 13 to each number, modulo 26.\n",
    "- replace each number by the corresponding letter"
   ]
  },
  {
   "cell_type": "code",
   "execution_count": 2,
   "metadata": {
    "inputHidden": false,
    "outputHidden": false
   },
   "outputs": [
    {
     "name": "stdout",
     "output_type": "stream",
     "text": [
      "now you can move to the second exercise.\n"
     ]
    }
   ],
   "source": [
    "txt = \"Abj lbh pna zbir gb gur frpbaq rkrepvfr.\"\n",
    "alphabet = \"abcdefghijklmnopqrstuvwxyz\"\n",
    "\n",
    "\n",
    "def sentence_modeler(sentence):\n",
    "    \"\"\"Takes a string and apply some transformations on it\"\"\"\n",
    "\n",
    "    sentence = sentence.lower()\n",
    "    newsentence = []\n",
    "\n",
    "    for letter in sentence:\n",
    "        if letter in alphabet:\n",
    "            letter_index = alphabet.find(letter)\n",
    "            newletter_index = (letter_index + 13) % 26\n",
    "            newletter = alphabet[newletter_index]\n",
    "            newsentence.append(newletter)\n",
    "        else:\n",
    "            newsentence.append(letter)\n",
    "\n",
    "    return \"\".join(newsentence)\n",
    "\n",
    "\n",
    "print(sentence_modeler(txt))"
   ]
  },
  {
   "cell_type": "markdown",
   "metadata": {
    "inputHidden": false,
    "outputHidden": false
   },
   "source": [
    "### Exercise 2\n",
    "- Write a function to check whether a number is prime\n",
    "- List all prime numbers from 1 to 1000 as a tuple t\n",
    "\n",
    "Veryfy checksum: `hash(t) == 485696759010151909`\n",
    "\n",
    "- Write a function which does it for any upper bound (n)"
   ]
  },
  {
   "cell_type": "code",
   "execution_count": 43,
   "metadata": {
    "inputHidden": false,
    "outputHidden": false
   },
   "outputs": [
    {
     "data": {
      "text/plain": [
       "-4800440224618445192"
      ]
     },
     "execution_count": 43,
     "metadata": {},
     "output_type": "execute_result"
    }
   ],
   "source": [
    "def is_prime(num):\n",
    "    \"\"\"Compute if an integer is prime\"\"\"\n",
    "    isPrime = True\n",
    "    for i in range(2, num):\n",
    "        if num % i == 0:\n",
    "            isPrime = False\n",
    "            break\n",
    "        else:\n",
    "            continue\n",
    "    return isPrime\n",
    "\n",
    "\n",
    "def primes(n):\n",
    "    \"\"\"Compute all the prime numbers below n\"\"\"\n",
    "    myprimes = ()\n",
    "    for i in range(2, n):\n",
    "        if is_prime(i):\n",
    "            myprimes += (i,)\n",
    "        else:\n",
    "            continue\n",
    "    return myprimes\n",
    "\n",
    "\n",
    "t = primes(1000)\n",
    "hash(t) # I'm pretty sure to be true, I don't get why my hash is not the same"
   ]
  },
  {
   "cell_type": "markdown",
   "metadata": {},
   "source": [
    "### Exercise 3:\n",
    "- Write a Python function to remove duplicate characters of a given string.\n",
    "- Write a Python function that accepts a comma separated sequence of words as input and prints the unique words in sorted form (alphanumerically)."
   ]
  },
  {
   "cell_type": "code",
   "execution_count": 6,
   "metadata": {
    "inputHidden": false,
    "outputHidden": false
   },
   "outputs": [
    {
     "name": "stdout",
     "output_type": "stream",
     "text": [
      "Hi guys! I remove duplicates!\n"
     ]
    }
   ],
   "source": [
    "def remove_duplicates(string):\n",
    "    \"\"\"Remove duplicated characters in a string\"\"\"\n",
    "    newsentence = []\n",
    "    for i in range(len(string)):\n",
    "        if string[i] == string[i-1]:\n",
    "            i += 1\n",
    "        else:\n",
    "            newsentence.append(string[i])\n",
    "    return \"\".join(newsentence)\n",
    "\n",
    "\n",
    "print(remove_duplicates(\"Hiiii guys! I remove dupppplicates!!!\"))"
   ]
  },
  {
   "cell_type": "code",
   "execution_count": 47,
   "metadata": {
    "inputHidden": false,
    "outputHidden": false
   },
   "outputs": [
    {
     "name": "stdout",
     "output_type": "stream",
     "text": [
      "black, green, red, white\n"
     ]
    }
   ],
   "source": [
    "txt = \"red, white, black, red, green, black\"\n",
    "\n",
    "\n",
    "def print_unique(string):\n",
    "    \"Print unique words in alphabetical order for comma separated values.\"\n",
    "    string_to_list = string.split(\", \")\n",
    "    unique_list = set(string_to_list)\n",
    "    sorted_list = sorted(unique_list)\n",
    "\n",
    "    return \", \".join(sorted_list)\n",
    "\n",
    "\n",
    "print(print_unique(txt))"
   ]
  },
  {
   "cell_type": "markdown",
   "metadata": {
    "inputHidden": false,
    "outputHidden": false
   },
   "source": [
    "# Exercise 4:\n",
    "- Download a dictionary of words.\n",
    "- Write a function which checks whether two words are anagrams of each other.\n",
    "- Write a function which gives the list of all anagrams of a given word."
   ]
  },
  {
   "cell_type": "code",
   "execution_count": 36,
   "metadata": {},
   "outputs": [],
   "source": [
    "# Works on unix systems only !\n",
    "!cat /usr/share/dict/words > words.txt"
   ]
  },
  {
   "cell_type": "code",
   "execution_count": 37,
   "metadata": {
    "inputHidden": false,
    "outputHidden": false
   },
   "outputs": [
    {
     "data": {
      "text/plain": [
       "['agnel', 'angle', 'galen', 'genal', 'glean', 'lagen']"
      ]
     },
     "execution_count": 37,
     "metadata": {},
     "output_type": "execute_result"
    }
   ],
   "source": [
    "x = \"dqds\\n\"\n",
    "x.split()\n",
    "\n",
    "myDict = []\n",
    "\n",
    "with open(\"words.txt\", \"r\") as words:\n",
    "    for word in words:\n",
    "        myDict.append(word.split()[0].lower())\n",
    "\n",
    "\n",
    "def are_anagrams(word1, word2):\n",
    "    \"\"\"Return True if two strings are anagrams\"\"\"\n",
    "    return (\"\".join(sorted(word1)) == \"\".join(sorted(word2)))\n",
    "\n",
    "\n",
    "def find_anagrams(word, dictionary=myDict):\n",
    "    \"\"\"Find anagrams of a word in a given dictionary\"\"\"\n",
    "    word = word.lower()\n",
    "    anagrams = []\n",
    "    if word in dictionary:\n",
    "        dictionary.pop(dictionary.index(word))\n",
    "    for other_word in dictionary:\n",
    "        if are_anagrams(word, other_word):\n",
    "            anagrams.append(other_word)\n",
    "        else:\n",
    "            continue\n",
    "    return anagrams\n",
    "\n",
    "\n",
    "find_anagrams(\"angel\")"
   ]
  },
  {
   "cell_type": "markdown",
   "metadata": {
    "inputHidden": false,
    "outputHidden": false
   },
   "source": [
    "### Exercise 5:\n",
    "- check up the basics about json format\n",
    "- read file students.md (open)\n",
    "- extract data and convert it into a list of dictionaries\n",
    "- save the result as a json file\n",
    "\n",
    "#### My solution\n",
    "Read the file line by line\n",
    "- 2 cases:\n",
    "    - if a line begins with \"##\" it's a new student, thus we have to initialise a new dict and append the previous one to the list of students.\n",
    "    - if the line begins with \"-\" it's a new entry in the dict, we should parse the rest of the line to disentangle the key from the value."
   ]
  },
  {
   "cell_type": "code",
   "execution_count": 30,
   "metadata": {
    "inputHidden": false,
    "outputHidden": false
   },
   "outputs": [
    {
     "data": {
      "text/plain": [
       "[{'identifier': 'amitdekel',\n",
       "  'email': 'amit.dek@gmail.com',\n",
       "  'last name': 'Dekel',\n",
       "  'first name': 'Amit',\n",
       "  'operating system': 'Windows 10',\n",
       "  'research interest': 'Social networks',\n",
       "  'expectations': 'write code more efficiently'},\n",
       " {'identifier': 'Jaimito30',\n",
       "  'email': 'jaime.leyva@psemail.eu',\n",
       "  'last name': 'Leyva',\n",
       "  'first name': 'Jaime',\n",
       "  'operating system': 'mac os mojave',\n",
       "  'memory': '8GB',\n",
       "  'research interest': 'Macro-finance, dynamic programming'},\n",
       " {'identifier': 'paolosantini',\n",
       "  'email': 'paolo.santini5@gmail.com',\n",
       "  'last name': 'Santini',\n",
       "  'first name': 'Paolo',\n",
       "  'operating system': 'Windows',\n",
       "  'memory': '8G (I guess)',\n",
       "  'research interest': 'Inequality, network, choice of collaboration',\n",
       "  'expectations': 'I expect to learn how to use python to analyse networks and how to use it for my analysis'},\n",
       " {'identifier': 'MartinJgd',\n",
       "  'email': 'martin.jegard@gmail.com',\n",
       "  'last name': 'Jegard',\n",
       "  'first name': 'Martin',\n",
       "  'operating system': 'Windows 10',\n",
       "  'memory': '8 Go',\n",
       "  'research interest': 'trade & environmental economics',\n",
       "  'expectations': 'learn to use new programming tools and improve my coding efficiency'},\n",
       " {'identifier': 'yaz26',\n",
       "  'email': 'yajna.govind@psemail.eu',\n",
       "  'last name': 'Govind',\n",
       "  'first name': 'Yajna',\n",
       "  'operating system': 'macOS X El Capitan',\n",
       "  'memory': '4 GB 1600Mhz',\n",
       "  'research interest': 'Inequality and Income Distribution',\n",
       "  'expectations': 'Learning webscrapping and text analysis'},\n",
       " {'identifier': 'eniloracyloc',\n",
       "  'email': 'caroline.coly@psemail.eu',\n",
       "  'last name': 'Coly',\n",
       "  'first name': 'Caroline',\n",
       "  'operating system': 'N/A',\n",
       "  'memory': 'N/A',\n",
       "  'research interest': 'Labour economics',\n",
       "  'expectations': 'scrap text and analyse it'},\n",
       " {'identifier': 'gnoblet',\n",
       "  'email': 'Guillaume.noblet@univ-paris1.fr',\n",
       "  'last name': 'noblet',\n",
       "  'first name': 'guillaume',\n",
       "  'operating system': 'manjaro',\n",
       "  'memory': '8go',\n",
       "  'research interest': 'topic modelling, text analysis, network analysis, quantitative history of economics',\n",
       "  'expectations': 'get insights on text analysis in python'},\n",
       " {'email': 'cemozguzel@gmail.com',\n",
       "  'last name': 'Ozguzel',\n",
       "  'first name': 'Cem',\n",
       "  'operating system': 'IOS',\n",
       "  'memory': '8 GB',\n",
       "  'research interest': 'International Migration, Labor',\n",
       "  'expectations': 'Get familiar with all of these tools (e.g. Python, Julia etc.), learn more about webscrapping for collecting data.'},\n",
       " {'identifier': 'DavidRhysBernard',\n",
       "  'email': 'david.rhys.bernard@gmail.com',\n",
       "  'last name': 'Bernard',\n",
       "  'first name': 'David',\n",
       "  'operating system': 'Windows 10',\n",
       "  'memory': '4gb',\n",
       "  'research interest': 'Microeconometrics, causal inference, development',\n",
       "  'expectations': 'More efficient coding, reproducible research'},\n",
       " {'identifier': 'thomasszuber',\n",
       "  'email': 'thomas.zuber@psemail.eu',\n",
       "  'last name': 'Zuber',\n",
       "  'first name': 'Thomas',\n",
       "  'operating system': 'OSX',\n",
       "  'memory': '4 GB',\n",
       "  'research interest': 'Structural change, labor reallocation, firm dynamics',\n",
       "  'expectations': 'git/python fluency'},\n",
       " {'identifier': 'SuperMayo',\n",
       "  'email': 'a.mayerowitz@gmail.com',\n",
       "  'last name': 'Mayerowitz',\n",
       "  'first name': 'Antoine',\n",
       "  'operating system': 'MacOs Mojave',\n",
       "  'memory': '8',\n",
       "  'research interest': 'TBD',\n",
       "  'expectations': 'Conquer the world'},\n",
       " {'identifier': 'mfranc01',\n",
       "  'email': 'manon.francois@psemail.eu',\n",
       "  'last name': 'FRANCOIS',\n",
       "  'first name': 'Manon',\n",
       "  'operating system': 'OSX',\n",
       "  'memory': '4 Go 1600 MHz DDR3',\n",
       "  'research interest': 'International Corporate Taxation',\n",
       "  'expectations': 'increase coding efficiency and learn new techniques'},\n",
       " {'identifier': 'SimonBunel',\n",
       "  'email': 'simonbunel@gmail.com',\n",
       "  'last name': 'Bunel',\n",
       "  'first name': 'Simon',\n",
       "  'operating system': 'macOS X El Capitan',\n",
       "  'memory': '4 GB',\n",
       "  'research interest': 'Innovation, patents, etc.',\n",
       "  'expectations': 'network analysis and learn a bit about scrapping'}]"
      ]
     },
     "execution_count": 30,
     "metadata": {},
     "output_type": "execute_result"
    }
   ],
   "source": [
    "import os.path\n",
    "import json\n",
    "\n",
    "students = []\n",
    "\n",
    "with open(os.path.abspath(\"../Students/students.md\"), \"r\") as file:\n",
    "    newStudent = {}\n",
    "    for line in file:\n",
    "        if \"##\" in line[0:2]:\n",
    "            # Test if dictionary is not empty\n",
    "            if bool(newStudent):\n",
    "                students.append(newStudent)\n",
    "            # We initialize a new dict\n",
    "            newStudent = {}\n",
    "        if \"-\" in line [0:1]:\n",
    "            # Separate the line before and after \": \"\n",
    "            raw_key, raw_value = line.split(\":\")\n",
    "\n",
    "            # Test if the value is not empty\n",
    "            if raw_value.strip() != \"\":\n",
    "                key = raw_key.split(\"-\")[1].strip()\n",
    "                value = raw_value.strip()\n",
    "                newStudent.update({key: value})\n",
    "\n",
    "# Write in a file\n",
    "with open(os.path.abspath(\"../Students/students.json\"), \"w\") as out:\n",
    "    json.dump(students, out)\n",
    "\n",
    "students"
   ]
  }
 ],
 "metadata": {
  "kernelspec": {
   "display_name": "Python 3",
   "language": "python",
   "name": "python3"
  },
  "language_info": {
   "codemirror_mode": {
    "name": "ipython",
    "version": 3
   },
   "file_extension": ".py",
   "mimetype": "text/x-python",
   "name": "python",
   "nbconvert_exporter": "python",
   "pygments_lexer": "ipython3",
   "version": "3.7.2"
  }
 },
 "nbformat": 4,
 "nbformat_minor": 4
}
