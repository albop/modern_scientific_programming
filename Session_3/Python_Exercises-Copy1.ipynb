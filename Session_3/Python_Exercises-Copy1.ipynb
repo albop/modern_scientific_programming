{
 "cells": [
  {
   "cell_type": "markdown",
   "metadata": {},
   "source": [
    "# Basic Python Excercises\n",
    "\n",
    "The goal of this tutorial is to experiment with the basic Python types.\n",
    "Before trying to solve the exercises it is suggested to read and run first the notebook [Introduction to Python](../Session_2/introduction_to_python.ipynb)"
   ]
  },
  {
   "cell_type": "markdown",
   "metadata": {},
   "source": [
    "## Basic types"
   ]
  },
  {
   "cell_type": "markdown",
   "metadata": {},
   "source": [
    "### Exercise 1\n",
    "\n",
    "Decode the following sentence by:\n",
    "- replacing each letter by its position in the alphabet\n",
    "- add 13 to each number, modulo 26.\n",
    "- replace each number by the corresponding letter"
   ]
  },
  {
   "cell_type": "code",
   "execution_count": 2,
   "metadata": {},
   "outputs": [],
   "source": [
    "txt = \"Abj lbh pna zbir gb gur frpbaq rkrepvfr.\""
   ]
  },
  {
   "cell_type": "markdown",
   "metadata": {
    "slideshow": {
     "slide_type": "subslide"
    }
   },
   "source": [
    "### Exercise 2\n",
    "\n",
    "- Write a function to check whether a number is prime\n",
    "- List all prime numbers from 1 to 1000 as a tuple `t`\n",
    "\n",
    "Veryfy checksum: `hash(t) == 485696759010151909`\n",
    "\n",
    "- Write a function which does it for any upper bound (n)"
   ]
  },
  {
   "cell_type": "markdown",
   "metadata": {},
   "source": [
    "### Exercise 3:\n",
    "    \n",
    "- Write a Python function to remove duplicate characters of a given string.\n",
    "\n",
    "- Write a Python function that accepts a comma separated sequence of words as input and prints the unique words in sorted form (alphanumerically)."
   ]
  },
  {
   "cell_type": "code",
   "execution_count": null,
   "metadata": {},
   "outputs": [],
   "source": [
    "txt = \"red, white, black, red, green, black\""
   ]
  },
  {
   "cell_type": "markdown",
   "metadata": {},
   "source": [
    "### Exercise 4:\n",
    "\n",
    "- Download a dictionary of words.\n",
    "- Write a function which checks whether two words are anagrams of each other.\n",
    "- Write a function which gives the list of all anagrams of a given word.\n",
    "    "
   ]
  },
  {
   "cell_type": "markdown",
   "metadata": {},
   "source": [
    "## Exercise 5:\n",
    "   \n",
    "- check up the basics about json format\n",
    "- read file students.md (open)\n",
    "- extract data and convert it into a list of dictionaries\n",
    "- save the result as a json file\n",
    "   "
   ]
  },
  {
   "cell_type": "code",
   "execution_count": 10,
   "metadata": {},
   "outputs": [],
   "source": [
    "f = open(\"students.md\", \"rt\")\n",
    "txt = f.read()\n",
    "f.close()\n"
   ]
  },
  {
   "cell_type": "code",
   "execution_count": 13,
   "metadata": {},
   "outputs": [],
   "source": [
    "#print(txt)"
   ]
  },
  {
   "cell_type": "code",
   "execution_count": 14,
   "metadata": {},
   "outputs": [],
   "source": [
    "with open(\"students.md\", \"rt\") as f:\n",
    "    txt = f.read()"
   ]
  },
  {
   "cell_type": "code",
   "execution_count": 17,
   "metadata": {},
   "outputs": [],
   "source": [
    "line = \"   \""
   ]
  },
  {
   "cell_type": "code",
   "execution_count": 19,
   "metadata": {},
   "outputs": [
    {
     "data": {
      "text/plain": [
       "''"
      ]
     },
     "execution_count": 19,
     "metadata": {},
     "output_type": "execute_result"
    }
   ],
   "source": [
    "line.strip()"
   ]
  },
  {
   "cell_type": "code",
   "execution_count": null,
   "metadata": {},
   "outputs": [],
   "source": []
  },
  {
   "cell_type": "code",
   "execution_count": 55,
   "metadata": {},
   "outputs": [],
   "source": [
    "observations = []\n",
    "record = []\n",
    "for line in txt.split(\"\\n\")[2:]:\n",
    "    if line[:2] == \"##\":\n",
    "        if len(record) != 0:\n",
    "            observations.append(record)\n",
    "        record = []\n",
    "    else:\n",
    "        if not line.strip()==\"\":\n",
    "            lhs, rhs = (line[2:].split(\":\"))\n",
    "            lhs = lhs.strip()\n",
    "            rhs = rhs.strip()\n",
    "            record.append([lhs, rhs])"
   ]
  },
  {
   "cell_type": "code",
   "execution_count": 33,
   "metadata": {},
   "outputs": [],
   "source": [
    "d = dict()"
   ]
  },
  {
   "cell_type": "code",
   "execution_count": 35,
   "metadata": {},
   "outputs": [],
   "source": [
    "d['a'] = 'b'\n",
    "d['b'] = 'c'"
   ]
  },
  {
   "cell_type": "code",
   "execution_count": 36,
   "metadata": {},
   "outputs": [
    {
     "data": {
      "text/plain": [
       "{'a': 'b', 'b': 'c'}"
      ]
     },
     "execution_count": 36,
     "metadata": {},
     "output_type": "execute_result"
    }
   ],
   "source": [
    "d"
   ]
  },
  {
   "cell_type": "code",
   "execution_count": 38,
   "metadata": {},
   "outputs": [
    {
     "name": "stdout",
     "output_type": "stream",
     "text": [
      "## Amit\n",
      "process \"- identifier: amitdekel\"\n",
      "process \"- email: amit.dek@gmail.com\"\n",
      "process \"- last name: Dekel\"\n",
      "process \"- first name: Amit\"\n",
      "process \"- operating system: Windows 10\"\n",
      "process \"- memory:\"\n",
      "process \"- research interest: Social networks\"\n",
      "process \"- expectations: write code more efficiently\"\n",
      "## Jaime\n",
      "process \"- identifier: Jaimito30\"\n",
      "process \"- email: jaime.leyva@psemail.eu\"\n",
      "process \"- last name: Leyva\"\n",
      "process \"- first name: Jaime\"\n",
      "process \"- operating system: mac os mojave\"\n",
      "process \"- memory: 8GB\"\n",
      "process \"- research interest: Macro-finance, dynamic programming \"\n",
      "process \"- expectations: \"\n",
      "## Paolo\n",
      "process \"- identifier: paolosantini\"\n",
      "process \"- email: paolo.santini5@gmail.com\"\n",
      "process \"- last name: Santini\"\n",
      "process \"- first name:Paolo\"\n",
      "process \"- operating system: Windows \"\n",
      "process \"- memory: 8G (I guess)\"\n",
      "process \"- research interest:Inequality, network, choice of collaboration\"\n",
      "process \"- expectations: I expect to learn how to use python to analyse networks and how to use it for my analysis\"\n",
      "## Martin\n",
      "process \"- identifier: MartinJgd\"\n",
      "process \"- email: martin.jegard@gmail.com\"\n",
      "process \"- last name: Jegard\"\n",
      "process \"- first name: Martin\"\n",
      "process \"- operating system: Windows 10\"\n",
      "process \"- memory: 8 Go\"\n",
      "process \"- research interest: trade & environmental economics\"\n",
      "process \"- expectations: learn to use new programming tools and improve my coding efficiency\"\n",
      "## Yajna\n",
      "process \"- identifier: yaz26\"\n",
      "process \"- email: yajna.govind@psemail.eu\"\n",
      "process \"- last name: Govind\"\n",
      "process \"- first name: Yajna\"\n",
      "process \"- operating system: macOS X El Capitan\"\n",
      "process \"- memory: 4 GB 1600Mhz\"\n",
      "process \"- research interest: Inequality and Income Distribution\"\n",
      "process \"- expectations: Learning webscrapping and text analysis\"\n",
      "## Caroline\n",
      "process \"- identifier: eniloracyloc\"\n",
      "process \"- email: caroline.coly@psemail.eu\"\n",
      "process \"- last name: Coly\"\n",
      "process \"- first name: Caroline\"\n",
      "process \"- operating system: N/A\"\n",
      "process \"- memory: N/A\"\n",
      "process \"- research interest: Labour economics\"\n",
      "process \"- expectations: scrap text and analyse it\"\n",
      "## Guillaume\n",
      "process \"- identifier: gnoblet\"\n",
      "process \"- email: Guillaume.noblet@univ-paris1.fr\"\n",
      "process \"- last name: noblet\"\n",
      "process \"- first name: guillaume\"\n",
      "process \"- operating system: manjaro\"\n",
      "process \"- memory: 8go\"\n",
      "process \"- research interest: topic modelling, text analysis, network analysis, quantitative history of economics\"\n",
      "process \"- expectations: get insights on text analysis in python\"\n",
      "## Cem\n",
      "process \"- identifier:\"\n",
      "process \"- email: cemozguzel@gmail.com\"\n",
      "process \"- last name: Ozguzel\"\n",
      "process \"- first name: Cem\"\n",
      "process \"- operating system: IOS\"\n",
      "process \"- memory: 8 GB\"\n",
      "process \"- research interest:International Migration, Labor\"\n",
      "process \"- expectations: Get familiar with all of these tools (e.g. Python, Julia etc.), learn more about webscrapping for collecting data.\"\n",
      "## David\n",
      "process \"- identifier: DavidRhysBernard\"\n",
      "process \"- email: david.rhys.bernard@gmail.com\"\n",
      "process \"- last name: Bernard\"\n",
      "process \"- first name:  David\"\n",
      "process \"- operating system: Windows 10 \"\n",
      "process \"- memory: 4gb\"\n",
      "process \"- research interest: Microeconometrics, causal inference, development \"\n",
      "process \"- expectations: More efficient coding, reproducible research\"\n",
      "## Thomas\n",
      "process \"- identifier: thomasszuber\"\n",
      "process \"- email: thomas.zuber@psemail.eu\"\n",
      "process \"- last name: Zuber  \"\n",
      "process \"- first name: Thomas\"\n",
      "process \"- operating system: OSX \"\n",
      "process \"- memory: 4 GB\"\n",
      "process \"- research interest: Structural change, labor reallocation, firm dynamics \"\n",
      "process \"- expectations: git/python fluency\"\n",
      "## Antoine\n",
      "process \"- identifier: SuperMayo\"\n",
      "process \"- email: a.mayerowitz@gmail.com\"\n",
      "process \"- last name: Mayerowitz\"\n",
      "process \"- first name: Antoine\"\n",
      "process \"- operating system: MacOs Mojave\"\n",
      "process \"- memory: 8\"\n",
      "process \"- research interest: TBD\"\n",
      "process \"- expectations: Conquer the world\"\n",
      "## Manon\n",
      "process \"- identifier: mfranc01  \"\n",
      "process \"- email: manon.francois@psemail.eu\"\n",
      "process \"- last name: FRANCOIS\"\n",
      "process \"- first name:  Manon\"\n",
      "process \"- operating system:  OSX\"\n",
      "process \"- memory: 4 Go 1600 MHz DDR3\"\n",
      "process \"- research interest: International Corporate Taxation\"\n",
      "process \"- expectations: increase coding efficiency and learn new techniques\"\n",
      "## Simon\n",
      "process \"- identifier: SimonBunel\"\n",
      "process \"- email: simonbunel@gmail.com \"\n",
      "process \"- last name: Bunel\"\n",
      "process \"- first name: Simon\"\n",
      "process \"- operating system: macOS X El Capitan\"\n",
      "process \"- memory: 4 GB\"\n",
      "process \"- research interest: Innovation, patents, etc.\"\n",
      "process \"- expectations: network analysis and learn a bit about scrapping\"\n",
      "## Emanuele\n",
      "process \"- identifier: ceschi\"\n",
      "process \"- email: emanuele.franceschi@gmail.com\"\n",
      "process \"- last name: Franceschi\"\n",
      "process \"- first name: Emanuele\"\n",
      "process \"- OS: Win10/debian stretch\"\n",
      "process \"- memory: 16 GB\"\n",
      "process \"- research interest: monetary macro, firm dynamics\"\n",
      "process \"- expectations: hands on Python/Julia, deepening ancillary tools\"\n"
     ]
    }
   ],
   "source": [
    "observations = []\n",
    "record = dict()\n",
    "for line in txt.split(\"\\n\")[2:]:\n",
    "    if line[:2] == \"##\":\n",
    "        print(line)\n",
    "        if len(record) != 0:\n",
    "            observations.append(record)\n",
    "        record = dict()\n",
    "    else:\n",
    "        if not line.strip()==\"\":\n",
    "            print(f'process \"{line}\"')\n",
    "            lhs, rhs = (line[2:].split(\":\"))\n",
    "            lhs = lhs.strip()\n",
    "            rhs = rhs.strip()\n",
    "            record[lhs] = rhs"
   ]
  },
  {
   "cell_type": "code",
   "execution_count": 39,
   "metadata": {},
   "outputs": [
    {
     "data": {
      "text/plain": [
       "[{'identifier': 'amitdekel',\n",
       "  'email': 'amit.dek@gmail.com',\n",
       "  'last name': 'Dekel',\n",
       "  'first name': 'Amit',\n",
       "  'operating system': 'Windows 10',\n",
       "  'memory': '',\n",
       "  'research interest': 'Social networks',\n",
       "  'expectations': 'write code more efficiently'},\n",
       " {'identifier': 'Jaimito30',\n",
       "  'email': 'jaime.leyva@psemail.eu',\n",
       "  'last name': 'Leyva',\n",
       "  'first name': 'Jaime',\n",
       "  'operating system': 'mac os mojave',\n",
       "  'memory': '8GB',\n",
       "  'research interest': 'Macro-finance, dynamic programming',\n",
       "  'expectations': ''},\n",
       " {'identifier': 'paolosantini',\n",
       "  'email': 'paolo.santini5@gmail.com',\n",
       "  'last name': 'Santini',\n",
       "  'first name': 'Paolo',\n",
       "  'operating system': 'Windows',\n",
       "  'memory': '8G (I guess)',\n",
       "  'research interest': 'Inequality, network, choice of collaboration',\n",
       "  'expectations': 'I expect to learn how to use python to analyse networks and how to use it for my analysis'},\n",
       " {'identifier': 'MartinJgd',\n",
       "  'email': 'martin.jegard@gmail.com',\n",
       "  'last name': 'Jegard',\n",
       "  'first name': 'Martin',\n",
       "  'operating system': 'Windows 10',\n",
       "  'memory': '8 Go',\n",
       "  'research interest': 'trade & environmental economics',\n",
       "  'expectations': 'learn to use new programming tools and improve my coding efficiency'},\n",
       " {'identifier': 'yaz26',\n",
       "  'email': 'yajna.govind@psemail.eu',\n",
       "  'last name': 'Govind',\n",
       "  'first name': 'Yajna',\n",
       "  'operating system': 'macOS X El Capitan',\n",
       "  'memory': '4 GB 1600Mhz',\n",
       "  'research interest': 'Inequality and Income Distribution',\n",
       "  'expectations': 'Learning webscrapping and text analysis'},\n",
       " {'identifier': 'eniloracyloc',\n",
       "  'email': 'caroline.coly@psemail.eu',\n",
       "  'last name': 'Coly',\n",
       "  'first name': 'Caroline',\n",
       "  'operating system': 'N/A',\n",
       "  'memory': 'N/A',\n",
       "  'research interest': 'Labour economics',\n",
       "  'expectations': 'scrap text and analyse it'},\n",
       " {'identifier': 'gnoblet',\n",
       "  'email': 'Guillaume.noblet@univ-paris1.fr',\n",
       "  'last name': 'noblet',\n",
       "  'first name': 'guillaume',\n",
       "  'operating system': 'manjaro',\n",
       "  'memory': '8go',\n",
       "  'research interest': 'topic modelling, text analysis, network analysis, quantitative history of economics',\n",
       "  'expectations': 'get insights on text analysis in python'},\n",
       " {'identifier': '',\n",
       "  'email': 'cemozguzel@gmail.com',\n",
       "  'last name': 'Ozguzel',\n",
       "  'first name': 'Cem',\n",
       "  'operating system': 'IOS',\n",
       "  'memory': '8 GB',\n",
       "  'research interest': 'International Migration, Labor',\n",
       "  'expectations': 'Get familiar with all of these tools (e.g. Python, Julia etc.), learn more about webscrapping for collecting data.'},\n",
       " {'identifier': 'DavidRhysBernard',\n",
       "  'email': 'david.rhys.bernard@gmail.com',\n",
       "  'last name': 'Bernard',\n",
       "  'first name': 'David',\n",
       "  'operating system': 'Windows 10',\n",
       "  'memory': '4gb',\n",
       "  'research interest': 'Microeconometrics, causal inference, development',\n",
       "  'expectations': 'More efficient coding, reproducible research'},\n",
       " {'identifier': 'thomasszuber',\n",
       "  'email': 'thomas.zuber@psemail.eu',\n",
       "  'last name': 'Zuber',\n",
       "  'first name': 'Thomas',\n",
       "  'operating system': 'OSX',\n",
       "  'memory': '4 GB',\n",
       "  'research interest': 'Structural change, labor reallocation, firm dynamics',\n",
       "  'expectations': 'git/python fluency'},\n",
       " {'identifier': 'SuperMayo',\n",
       "  'email': 'a.mayerowitz@gmail.com',\n",
       "  'last name': 'Mayerowitz',\n",
       "  'first name': 'Antoine',\n",
       "  'operating system': 'MacOs Mojave',\n",
       "  'memory': '8',\n",
       "  'research interest': 'TBD',\n",
       "  'expectations': 'Conquer the world'},\n",
       " {'identifier': 'mfranc01',\n",
       "  'email': 'manon.francois@psemail.eu',\n",
       "  'last name': 'FRANCOIS',\n",
       "  'first name': 'Manon',\n",
       "  'operating system': 'OSX',\n",
       "  'memory': '4 Go 1600 MHz DDR3',\n",
       "  'research interest': 'International Corporate Taxation',\n",
       "  'expectations': 'increase coding efficiency and learn new techniques'},\n",
       " {'identifier': 'SimonBunel',\n",
       "  'email': 'simonbunel@gmail.com',\n",
       "  'last name': 'Bunel',\n",
       "  'first name': 'Simon',\n",
       "  'operating system': 'macOS X El Capitan',\n",
       "  'memory': '4 GB',\n",
       "  'research interest': 'Innovation, patents, etc.',\n",
       "  'expectations': 'network analysis and learn a bit about scrapping'}]"
      ]
     },
     "execution_count": 39,
     "metadata": {},
     "output_type": "execute_result"
    }
   ],
   "source": [
    "observations"
   ]
  },
  {
   "cell_type": "code",
   "execution_count": 40,
   "metadata": {},
   "outputs": [],
   "source": [
    "import json"
   ]
  },
  {
   "cell_type": "code",
   "execution_count": 47,
   "metadata": {},
   "outputs": [],
   "source": [
    "from json import dumps, loads"
   ]
  },
  {
   "cell_type": "code",
   "execution_count": 45,
   "metadata": {},
   "outputs": [],
   "source": [
    "json_txt = (dumps(observations))"
   ]
  },
  {
   "cell_type": "code",
   "execution_count": 46,
   "metadata": {},
   "outputs": [],
   "source": [
    "with open(\"students.json\", 'wt') as f:\n",
    "    f.write(json_txt)"
   ]
  },
  {
   "cell_type": "code",
   "execution_count": null,
   "metadata": {},
   "outputs": [],
   "source": []
  },
  {
   "cell_type": "code",
   "execution_count": 49,
   "metadata": {},
   "outputs": [],
   "source": [
    "with open(\"students.json\", 'rt') as f:\n",
    "    data = loads(f.read())"
   ]
  },
  {
   "cell_type": "code",
   "execution_count": 51,
   "metadata": {},
   "outputs": [
    {
     "data": {
      "text/plain": [
       "['amitdekel',\n",
       " 'Jaimito30',\n",
       " 'paolosantini',\n",
       " 'MartinJgd',\n",
       " 'yaz26',\n",
       " 'eniloracyloc',\n",
       " 'gnoblet',\n",
       " '',\n",
       " 'DavidRhysBernard',\n",
       " 'thomasszuber',\n",
       " 'SuperMayo',\n",
       " 'mfranc01',\n",
       " 'SimonBunel']"
      ]
     },
     "execution_count": 51,
     "metadata": {},
     "output_type": "execute_result"
    }
   ],
   "source": [
    "[student['identifier'] for student in data]"
   ]
  },
  {
   "cell_type": "code",
   "execution_count": 53,
   "metadata": {},
   "outputs": [],
   "source": [
    "import yaml\n",
    "with open(\"students.yaml\", 'wt') as f:\n",
    "    yaml.dump(observations, f)"
   ]
  },
  {
   "cell_type": "code",
   "execution_count": null,
   "metadata": {},
   "outputs": [],
   "source": []
  }
 ],
 "metadata": {
  "kernelspec": {
   "display_name": "Python 3",
   "language": "python",
   "name": "python3"
  },
  "language_info": {
   "codemirror_mode": {
    "name": "ipython",
    "version": 3
   },
   "file_extension": ".py",
   "mimetype": "text/x-python",
   "name": "python",
   "nbconvert_exporter": "python",
   "pygments_lexer": "ipython3",
   "version": "3.7.1"
  }
 },
 "nbformat": 4,
 "nbformat_minor": 2
}
